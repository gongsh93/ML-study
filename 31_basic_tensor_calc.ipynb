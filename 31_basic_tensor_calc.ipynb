{
 "cells": [
  {
   "cell_type": "code",
   "execution_count": 5,
   "id": "25e14c9a-57ed-4d90-8c13-3c466006c280",
   "metadata": {},
   "outputs": [],
   "source": [
    "import tensorflow as tf\n",
    "import numpy as np"
   ]
  },
  {
   "cell_type": "markdown",
   "id": "821c2b14-dcef-4f67-a1a9-eb3d78ec8057",
   "metadata": {},
   "source": [
    "tensor를 이용한 상수 및 차원 출력"
   ]
  },
  {
   "cell_type": "code",
   "execution_count": 4,
   "id": "6e6d69e1-72bd-4c61-91db-72c2f4d2b06a",
   "metadata": {},
   "outputs": [
    {
     "name": "stdout",
     "output_type": "stream",
     "text": [
      "tf.Tensor(0, shape=(), dtype=int32)\n",
      "tf.Tensor(1, shape=(), dtype=int32)\n",
      "tf.Tensor(2, shape=(), dtype=int32)\n"
     ]
    }
   ],
   "source": [
    "a = tf.constant(2)\n",
    "print(tf.rank(a))\n",
    "\n",
    "b = tf.constant([1, 2])\n",
    "print(tf.rank(b))\n",
    "\n",
    "c = tf.constant([[1, 2], [3, 4]])\n",
    "print(tf.rank(c))"
   ]
  },
  {
   "cell_type": "markdown",
   "id": "9c3b453c-3360-4efa-82ba-8217148edd47",
   "metadata": {},
   "source": [
    "tensor 사칙연산"
   ]
  },
  {
   "cell_type": "code",
   "execution_count": 8,
   "id": "ee2e35af-7700-4d27-891d-3af4de225407",
   "metadata": {},
   "outputs": [
    {
     "name": "stdout",
     "output_type": "stream",
     "text": [
      "tf.Tensor(5, shape=(), dtype=int32)\n",
      "tf.Tensor(1, shape=(), dtype=int32)\n",
      "tf.Tensor(6, shape=(), dtype=int32)\n",
      "tf.Tensor(1.5, shape=(), dtype=float64)\n",
      "5\n",
      "1\n",
      "6\n",
      "1.5\n"
     ]
    }
   ],
   "source": [
    "a = tf.constant(3)\n",
    "b = tf.constant(2)\n",
    "\n",
    "print(tf.add(a, b))\n",
    "print(tf.subtract(a, b))\n",
    "print(tf.multiply(a, b))\n",
    "print(tf.divide(a, b))\n",
    "\n",
    "# print as numpy\n",
    "print(tf.add(a, b).numpy())\n",
    "print(tf.subtract(a, b).numpy())\n",
    "print(tf.multiply(a, b).numpy())\n",
    "print(tf.divide(a, b).numpy())"
   ]
  },
  {
   "cell_type": "code",
   "execution_count": 9,
   "id": "d4b8c433-83be-45ce-b3a5-cc117215e999",
   "metadata": {},
   "outputs": [
    {
     "name": "stdout",
     "output_type": "stream",
     "text": [
      "5 25.0 tf.Tensor(25.0, shape=(), dtype=float32)\n"
     ]
    }
   ],
   "source": [
    "c = tf.add(a, b).numpy()\n",
    "c_square = np.square(c, dtype = np.float32)\n",
    "c_tensor = tf.convert_to_tensor(c_square)\n",
    "\n",
    "print(c, c_square, c_tensor)"
   ]
  },
  {
   "cell_type": "markdown",
   "id": "3561400f-b6eb-424d-aa18-7466d1bc1fff",
   "metadata": {},
   "source": [
    "# tensorflow를 이용한 그래프 함수의 구현"
   ]
  },
  {
   "cell_type": "markdown",
   "id": "1f3ea5c6-a48d-4b15-94f5-c960a02a8b21",
   "metadata": {},
   "source": [
    "일반 파이썬 함수"
   ]
  },
  {
   "cell_type": "code",
   "execution_count": 10,
   "id": "41eb2770-f2a0-4e37-af23-e484d674511c",
   "metadata": {},
   "outputs": [
    {
     "data": {
      "text/plain": [
       "<function __main__.square_pos(x)>"
      ]
     },
     "execution_count": 10,
     "metadata": {},
     "output_type": "execute_result"
    }
   ],
   "source": [
    "def square_pos(x):\n",
    "    if x > 0:\n",
    "        x = x * x\n",
    "    else:\n",
    "        x = x * -1\n",
    "    return x\n",
    "square_pos"
   ]
  },
  {
   "cell_type": "code",
   "execution_count": 11,
   "id": "c8686fcc-3fd1-42d3-ab2f-eb1cb11af58d",
   "metadata": {},
   "outputs": [
    {
     "data": {
      "text/plain": [
       "<tensorflow.python.eager.def_function.Function at 0x1b5d834b940>"
      ]
     },
     "execution_count": 11,
     "metadata": {},
     "output_type": "execute_result"
    }
   ],
   "source": [
    "@tf.function\n",
    "def square_pos(x):\n",
    "    if x > 0:\n",
    "        x = x * x\n",
    "    else:\n",
    "        x = x * -1\n",
    "    return x\n",
    "square_pos"
   ]
  },
  {
   "cell_type": "markdown",
   "id": "c9a11e67-0f18-44da-a19f-b56be5aa40ce",
   "metadata": {},
   "source": [
    "@tf.function을 사용하면 파이썬 함수가 tensorflow 그래프의 형태로 구현되며, 이는 GPU를 사용할 수 있는 연산을 의미함. "
   ]
  }
 ],
 "metadata": {
  "kernelspec": {
   "display_name": "Python 3 (ipykernel)",
   "language": "python",
   "name": "python3"
  },
  "language_info": {
   "codemirror_mode": {
    "name": "ipython",
    "version": 3
   },
   "file_extension": ".py",
   "mimetype": "text/x-python",
   "name": "python",
   "nbconvert_exporter": "python",
   "pygments_lexer": "ipython3",
   "version": "3.9.0"
  }
 },
 "nbformat": 4,
 "nbformat_minor": 5
}
